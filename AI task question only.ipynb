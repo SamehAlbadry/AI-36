{
 "cells": [
  {
   "cell_type": "markdown",
   "id": "7f5e0817",
   "metadata": {},
   "source": [
    "# project-1"
   ]
  },
  {
   "cell_type": "markdown",
   "id": "4cd84757",
   "metadata": {},
   "source": [
    "##### Suppose I have a list of values called dataset, containing the following items:\n",
    "\n",
    "##### dataset = [\"apple\", \"banana\", \"tomato\", \"orange\", \"cherry\", \"carrot\"]\n",
    "##### I would like to develop a program that allows a user to search for a specific value within this list and determine if it exists or not.Could you please suggest a solution for this? The program should be able to handle exact matches as well as partial matches, and provide a clear and concise output indicating whether the search item was found or not."
   ]
  },
  {
   "cell_type": "code",
   "execution_count": null,
   "id": "6a6480f7",
   "metadata": {},
   "outputs": [],
   "source": []
  },
  {
   "cell_type": "markdown",
   "id": "cf5ec275",
   "metadata": {},
   "source": [
    "# project-2"
   ]
  },
  {
   "cell_type": "markdown",
   "id": "d6217ba1",
   "metadata": {},
   "source": [
    "# binary search algorithm"
   ]
  },
  {
   "cell_type": "code",
   "execution_count": null,
   "id": "a533fcb9",
   "metadata": {},
   "outputs": [],
   "source": []
  },
  {
   "cell_type": "markdown",
   "id": "21d5d60a",
   "metadata": {},
   "source": [
    "# project-3"
   ]
  },
  {
   "cell_type": "markdown",
   "id": "60fad275",
   "metadata": {},
   "source": [
    "# Calculator - without oop"
   ]
  },
  {
   "cell_type": "code",
   "execution_count": null,
   "id": "380a76ed",
   "metadata": {},
   "outputs": [],
   "source": []
  },
  {
   "cell_type": "markdown",
   "id": "ad867b68",
   "metadata": {},
   "source": [
    "# calculator - using oop"
   ]
  },
  {
   "cell_type": "code",
   "execution_count": null,
   "id": "069806c6",
   "metadata": {},
   "outputs": [],
   "source": []
  },
  {
   "cell_type": "markdown",
   "id": "23c5890a",
   "metadata": {},
   "source": [
    "# project - 4"
   ]
  },
  {
   "cell_type": "markdown",
   "id": "f554ff95",
   "metadata": {},
   "source": [
    "# rock paper seccoirs "
   ]
  },
  {
   "cell_type": "code",
   "execution_count": null,
   "id": "7cb85b6a",
   "metadata": {},
   "outputs": [],
   "source": []
  },
  {
   "cell_type": "markdown",
   "id": "c367439d",
   "metadata": {},
   "source": [
    "# project - 5 "
   ]
  },
  {
   "cell_type": "markdown",
   "id": "8745b0b4",
   "metadata": {},
   "source": [
    "# Count the Number of Vowels in a String"
   ]
  },
  {
   "cell_type": "code",
   "execution_count": null,
   "id": "9a3ab9e2",
   "metadata": {},
   "outputs": [],
   "source": []
  },
  {
   "cell_type": "markdown",
   "id": "1bd88c3d",
   "metadata": {},
   "source": [
    "# project 6"
   ]
  },
  {
   "cell_type": "markdown",
   "id": "b282ed7a",
   "metadata": {},
   "source": [
    "# To-do list: Create a program that allows the user to add, delete, and view items on a to-do list."
   ]
  },
  {
   "cell_type": "code",
   "execution_count": null,
   "id": "df20b95b",
   "metadata": {},
   "outputs": [],
   "source": []
  }
 ],
 "metadata": {
  "kernelspec": {
   "display_name": "Python 3 (ipykernel)",
   "language": "python",
   "name": "python3"
  },
  "language_info": {
   "codemirror_mode": {
    "name": "ipython",
    "version": 3
   },
   "file_extension": ".py",
   "mimetype": "text/x-python",
   "name": "python",
   "nbconvert_exporter": "python",
   "pygments_lexer": "ipython3",
   "version": "3.9.12"
  }
 },
 "nbformat": 4,
 "nbformat_minor": 5
}
